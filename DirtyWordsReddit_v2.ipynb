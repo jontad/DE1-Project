{
 "cells": [
  {
   "cell_type": "code",
   "execution_count": 138,
   "id": "ce3f8d4d-0d6d-4fc8-9a68-81ddbaf2c4cd",
   "metadata": {},
   "outputs": [],
   "source": [
    "from pyspark.sql import SparkSession\n",
    "from pyspark.sql.functions import concat, col, lit, regexp_replace\n",
    "\n",
    "\n",
    "# New API\n",
    "spark_session = SparkSession\\\n",
    "        .builder\\\n",
    "        .master(\"spark://130.238.28.143:7077\") \\\n",
    "        .appName(\"DE1 Project\")\\\n",
    "        .config(\"spark.dynamicAllocation.enabled\",False)\\\n",
    "        .config(\"spark.dynamicAllocation.executorIdleTimeout\",\"99999s\")\\\n",
    "        .config(\"spark.executor.cores\",2)\\\n",
    "        .config(\"spark.driver.port\",9998)\\\n",
    "        .config(\"spark.blockManager.port\",10005)\\\n",
    "        .getOrCreate()\n",
    "\n",
    "#        .config(\"spark.dynamicAllocation.shuffleTracking.enabled\",False)\\\n",
    "#        .config(\"spark.shuffle.service.enabled\",False)\\\n",
    "\n",
    "# Old API (RDD)\n",
    "spark_context = spark_session.sparkContext\n",
    "\n",
    "spark_context.setLogLevel(\"ERROR\")"
   ]
  },
  {
   "cell_type": "code",
   "execution_count": 139,
   "id": "f6dabf26-28a5-4a95-b9b9-085c880e83bd",
   "metadata": {},
   "outputs": [],
   "source": [
    "#set no. of workers (1, 2 or 3) based on \"physical\" cluster\n",
    "\n",
    "#horizontal\n",
    "#2 cores, 4 gb mem (duration_1_worker.txt)\n",
    "#STRONG_1 => 4 cores, 4 gb mem (duration_strong_1_worker.txt)\n",
    "#STRONG_2 => 8 cores, 8 gb mem (duration_strong_2_worker.txt)\n",
    "#STRONG_3 => 16 cores, 16 gb mem (duration_strong_3_worker.txt)\n",
    "\n",
    "WORKERS = \"STRONG_3\""
   ]
  },
  {
   "cell_type": "code",
   "execution_count": 140,
   "id": "f38d4ab1-0280-4a6c-acf9-68263a577b2e",
   "metadata": {},
   "outputs": [],
   "source": [
    "#Imports\n",
    "from pyspark.sql.functions import lower, col, split\n",
    "from datetime import datetime\n",
    "import time"
   ]
  },
  {
   "cell_type": "code",
   "execution_count": 141,
   "id": "c6f197c4-e70c-4113-bfef-63262d5e31c1",
   "metadata": {},
   "outputs": [
    {
     "name": "stderr",
     "output_type": "stream",
     "text": [
      "                                                                                \r"
     ]
    }
   ],
   "source": [
    "#Read Dirty words to DataFrame\n",
    "\n",
    "df_dirty = spark_session.read\\\n",
    "    .option(\"header\", \"true\")\\\n",
    "    .csv('hdfs://192.168.2.13:9000/user/ubuntu/DirtyWordsFolder/DirtyWords.csv')"
   ]
  },
  {
   "cell_type": "code",
   "execution_count": 142,
   "id": "bf51ab71-23da-470a-886a-2fbe3ce17ed9",
   "metadata": {},
   "outputs": [
    {
     "name": "stderr",
     "output_type": "stream",
     "text": [
      "                                                                                \r"
     ]
    }
   ],
   "source": [
    "#Convert Dirty words to List\n",
    "\n",
    "list_dirty = df_dirty.select(\"word\").collect()\n",
    "list_dirty = [str(row[\"word\"]) for row in list_dirty]"
   ]
  },
  {
   "cell_type": "code",
   "execution_count": 143,
   "id": "f1740cb0-b32e-4dab-ac2d-56194e2d4972",
   "metadata": {},
   "outputs": [
    {
     "name": "stderr",
     "output_type": "stream",
     "text": [
      "                                                                                \r"
     ]
    }
   ],
   "source": [
    "#Read Reddit comments do DataFrame\n",
    "\n",
    "if WORKERS == 1 or \"STRONG_1\" or \"STRONG_2\" or \"STRONG_3\":\n",
    "    df_reddit = spark_session.read.json('hdfs://192.168.2.13:9000/user/one_worker')\n",
    "    df_reddit = df_reddit.select(\"body\",\"subreddit\")\n",
    "elif WORKERS == 2:\n",
    "    df_reddit = spark_session.read.json('hdfs://192.168.2.13:9000/user/two_workers')\n",
    "    df_reddit = df_reddit.select(\"body\",\"subreddit\")\n",
    "elif WORKERS == 3:\n",
    "    df_reddit = spark_session.read.json('hdfs://192.168.2.13:9000/user/three_workers')\n",
    "    df_reddit = df_reddit.select(\"body\",\"subreddit\")\n",
    "    "
   ]
  },
  {
   "cell_type": "code",
   "execution_count": 144,
   "id": "cc66beeb-ba10-48b8-9db0-dcc875c4579f",
   "metadata": {},
   "outputs": [],
   "source": [
    "#start timer\n",
    "\n",
    "start_time = datetime.now()"
   ]
  },
  {
   "cell_type": "code",
   "execution_count": 145,
   "id": "7716c93f-ae1b-4ddd-a79f-ac03b986fa2e",
   "metadata": {},
   "outputs": [
    {
     "name": "stderr",
     "output_type": "stream",
     "text": [
      "                                                                                \r"
     ]
    }
   ],
   "source": [
    "#Create DataFrame only containing sentences with dirty words by subreddit\n",
    "\n",
    "def checkForDirtyWord(row, list_dirty):\n",
    "    for word in row[1:]:\n",
    "        if word in list_dirty:\n",
    "            return True\n",
    "    return False\n",
    "    \n",
    "df_reddit_w_dirty_words = df_reddit.withColumn(\"cBody\",regexp_replace(\"body\", \",|\\n|\\!|\\?|\\.|\\*|:|;\", \" \"))\\\n",
    "                        .withColumn('cBody', lower(col('cBody')))\\\n",
    "                        .withColumn('cBody', split(col('cBody'), \" \"))\\\n",
    "                        .rdd\\\n",
    "                        .filter(lambda row: checkForDirtyWord(row[\"cBody\"], list_dirty))\\\n",
    "                        .toDF()\\\n",
    "                        .select([\"subreddit\",\"cBody\"])"
   ]
  },
  {
   "cell_type": "code",
   "execution_count": 146,
   "id": "282c6812-511f-4901-8a45-05ca5d90028b",
   "metadata": {},
   "outputs": [],
   "source": [
    "#Count how many comments with dirty words there are per subreddit\n",
    "\n",
    "df_reddit_w_dirty_words.registerTempTable(\"tmp_tbl_reddit_w_dirty_words\")\n",
    "\n",
    "df_subreddit_dirty_words_freq = spark_session.sql(\"\"\"\n",
    "    SELECT subreddit as subreddit_dirty, COUNT(*) as frequencies_dirty \n",
    "    FROM tmp_tbl_reddit_w_dirty_words\n",
    "    GROUP BY subreddit_dirty \n",
    "    ORDER BY frequencies_dirty DESC\n",
    "\"\"\")\n",
    "\n",
    "#df_subreddit_dirty_words_freq.show(5)"
   ]
  },
  {
   "cell_type": "code",
   "execution_count": 147,
   "id": "3cd58299-bce3-4a36-aa78-176d976b1b48",
   "metadata": {},
   "outputs": [],
   "source": [
    "#Count how many comments there are per subreddit (in total)\n",
    "\n",
    "df_reddit.registerTempTable(\"tmp_tbl_reddit\")\n",
    "\n",
    "df_subreddit_freq = spark_session.sql(\"\"\"\n",
    "    SELECT subreddit, COUNT(*) as frequencies\n",
    "    FROM tmp_tbl_reddit\n",
    "    GROUP BY subreddit\n",
    "    ORDER BY Frequencies DESC\n",
    "\"\"\")\n",
    "\n",
    "#df_subreddit_freq.show(5)"
   ]
  },
  {
   "cell_type": "code",
   "execution_count": 148,
   "id": "1074be9a-7b4f-45e5-a7ee-58839bd7234e",
   "metadata": {},
   "outputs": [],
   "source": [
    "#Select the top 20 most profane subreddits with more than 500 comments\n",
    "\n",
    "df_subreddit_freq.registerTempTable(\"tmp_tbl_subreddit_freq\")\n",
    "df_subreddit_dirty_words_freq.registerTempTable(\"tmp_tbl_df_subreddit_dirty_words_freq\")\n",
    "\n",
    "df_joined_freq = spark_session.sql(\"\"\"\n",
    "    SELECT subreddit, ratio FROM(\n",
    "    (SELECT subreddit, frequencies, frequencies_dirty, \n",
    "    (frequencies_dirty * 1.0 / frequencies * 1.0) as sort_ratio,\n",
    "    CONCAT(CAST(((frequencies_dirty * 1.00 / frequencies * 1.00) * 100) AS VARCHAR(5)) ,' %' ) as ratio\n",
    "    FROM tmp_tbl_subreddit_freq \n",
    "    LEFT JOIN \n",
    "    tmp_tbl_df_subreddit_dirty_words_freq\n",
    "    ON subreddit = subreddit_dirty\n",
    "    WHERE frequencies > 500\n",
    "    ORDER BY sort_ratio DESC\n",
    "    LIMIT 20))\n",
    "\"\"\")"
   ]
  },
  {
   "cell_type": "code",
   "execution_count": 149,
   "id": "84436bf6-0de8-4fd4-bc08-9468b3f9bf6c",
   "metadata": {},
   "outputs": [
    {
     "name": "stderr",
     "output_type": "stream",
     "text": [
      "                                                                                \r"
     ]
    },
    {
     "name": "stdout",
     "output_type": "stream",
     "text": [
      "+-------------------+---------------+\n",
      "|          subreddit|          ratio|\n",
      "+-------------------+---------------+\n",
      "|             mexico|22.8373702422 %|\n",
      "|                sex|22.4592220828 %|\n",
      "|relationship_advice|20.1205010306 %|\n",
      "|           Equality|19.4775132275 %|\n",
      "|    TwoXChromosomes|18.6431989064 %|\n",
      "|         needadvice|17.1220400729 %|\n",
      "|              women|16.9527896996 %|\n",
      "|         MensRights|16.2293274531 %|\n",
      "|        LadyBashing|15.8977998581 %|\n",
      "|                AMA|15.4205607477 %|\n",
      "|   Bad_Cop_No_Donut|15.0097465887 %|\n",
      "|              drunk|14.8148148148 %|\n",
      "|     lostgeneration|14.5743145743 %|\n",
      "|         ukpolitics|14.0225179120 %|\n",
      "|       SuicideWatch|13.7457044674 %|\n",
      "|               lgbt|13.7292711145 %|\n",
      "|                MMA|13.6040184177 %|\n",
      "|            Fitness|13.4345794393 %|\n",
      "|            stoners|13.3074935401 %|\n",
      "|           cannabis|13.1892368769 %|\n",
      "+-------------------+---------------+\n",
      "\n"
     ]
    },
    {
     "name": "stderr",
     "output_type": "stream",
     "text": [
      "                                                                                \r"
     ]
    }
   ],
   "source": [
    "#Materialize the data and show the dirty word ratios per subreddit\n",
    "\n",
    "df_joined_freq.show()"
   ]
  },
  {
   "cell_type": "code",
   "execution_count": 150,
   "id": "6d90f8e7-f0a5-4e6f-a645-32c945e3da11",
   "metadata": {},
   "outputs": [
    {
     "name": "stdout",
     "output_type": "stream",
     "text": [
      "Execution took 0:02:41.711947 (hh:mm:ss:SSSSS) on STRONG_3 workers\n"
     ]
    }
   ],
   "source": [
    "#End timer\n",
    "\n",
    "end_time = datetime.now()\n",
    "duration = end_time - start_time\n",
    "print(f\"Execution took {duration} (hh:mm:ss:SSSSS) on {WORKERS} workers\")"
   ]
  },
  {
   "cell_type": "code",
   "execution_count": 151,
   "id": "2f9ac633-d486-4bbb-9b79-ad174ba2504b",
   "metadata": {},
   "outputs": [],
   "source": [
    "#Write durations to file\n",
    "\n",
    "if WORKERS == 1:\n",
    "    f = open('duration_1_worker.txt', 'a')\n",
    "elif WORKERS == 2:\n",
    "    f = open('duration_2_workers.txt', 'a')\n",
    "elif WORKERS == 3:\n",
    "    f = open('duration_3_worker.txt', 'a')\n",
    "elif WORKERS == \"STRONG_1\":\n",
    "    f = open('duration_strong_1_worker.txt', 'a')\n",
    "elif WORKERS == \"STRONG_2\":\n",
    "    f = open('duration_strong_2_worker.txt', 'a')\n",
    "elif WORKERS == \"STRONG_3\":\n",
    "    f = open('duration_strong_3_worker.txt', 'a')\n",
    "\n",
    "\n",
    "f.write(str(duration) + \" hh:mm:ss:SSSSS\" + \"\\n\")\n",
    "f.close()"
   ]
  },
  {
   "cell_type": "code",
   "execution_count": 152,
   "id": "d0b49290-bcd7-43ef-b5ed-95674fd9276b",
   "metadata": {},
   "outputs": [],
   "source": [
    "# release the cores for another application!\n",
    "spark_context.stop()"
   ]
  }
 ],
 "metadata": {
  "kernelspec": {
   "display_name": "Python 3 (ipykernel)",
   "language": "python",
   "name": "python3"
  },
  "language_info": {
   "codemirror_mode": {
    "name": "ipython",
    "version": 3
   },
   "file_extension": ".py",
   "mimetype": "text/x-python",
   "name": "python",
   "nbconvert_exporter": "python",
   "pygments_lexer": "ipython3",
   "version": "3.8.10"
  }
 },
 "nbformat": 4,
 "nbformat_minor": 5
}
