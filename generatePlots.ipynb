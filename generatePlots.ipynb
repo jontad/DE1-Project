{
 "cells": [
  {
   "cell_type": "code",
   "execution_count": 105,
   "id": "ab7b47c8-e6fb-4630-aecf-ee134ca710e4",
   "metadata": {},
   "outputs": [
    {
     "name": "stdout",
     "output_type": "stream",
     "text": [
      "17.6875\n"
     ]
    }
   ],
   "source": [
    "def generateAverageTime(workerDataPath):\n",
    "    with open('generatedData/' + workerDataPath) as f:\n",
    "        lines = f.readlines()\n",
    "\n",
    "        split = [time.split('\\n', 1)[0] for time in lines]\n",
    "        removeSpace = [time.split(' ', 1)[0] for time in split]\n",
    "        getMin = [time[2:7] for time in removeSpace]\n",
    "        replaceColon = [time.replace(':', '.') for time in getMin]\n",
    "        allTimes = [float(time) for time in replaceColon]\n",
    "        \n",
    "        average = sum(allTimes) / len(allTimes)\n",
    "        rounded = round(average, 5)\n",
    "        return rounded\n",
    "\n",
    "        \n",
    "\n",
    "avg = generateAverageTime(\"duration_1_worker.txt\")\n",
    "print(avg)"
   ]
  },
  {
   "cell_type": "code",
   "execution_count": 106,
   "id": "337d77b8-e77f-4522-9a55-1f52ccb3afc5",
   "metadata": {},
   "outputs": [],
   "source": [
    "def generateY():\n",
    "    oneAvg = generateAverageTime(\"duration_1_worker.txt\")\n",
    "    twoAvg = generateAverageTime(\"duration_2_workers.txt\")\n",
    "    threeAvg = generateAverageTime(\"duration_3_worker.txt\")\n",
    "    y = [oneAvg, twoAvg, threeAvg]\n",
    "    \n",
    "    return y"
   ]
  },
  {
   "cell_type": "code",
   "execution_count": 107,
   "id": "d406973c-ac70-46f5-966e-8f44d9ebb38a",
   "metadata": {},
   "outputs": [],
   "source": [
    "x = [1, 2, 3]\n",
    "y = generateY()\n",
    "\n",
    "#xIdeal = [*range(1, 4)]\n",
    "#yIdeal = [17.6875]*3"
   ]
  },
  {
   "cell_type": "code",
   "execution_count": 109,
   "id": "82ba0817-ca5a-4d04-8216-e40f4c916574",
   "metadata": {},
   "outputs": [
    {
     "data": {
      "image/png": "[encoded data removed]",
      "text/plain": [
       "<Figure size 432x288 with 1 Axes>"
      ]
     },
     "metadata": {
      "needs_background": "light"
     },
     "output_type": "display_data"
    }
   ],
   "source": [
    "import matplotlib.pyplot as plt\n",
    "import math\n",
    "\n",
    "plt.plot(x, y)\n",
    "#plt.plot(xIdeal, yIdeal)\n",
    "\n",
    "new_list = range(math.floor(min(x)), math.ceil(max(x))+1)\n",
    "plt.xticks(new_list)\n",
    "\n",
    "\n",
    "plt.xlabel(\"Number of Workers\")\n",
    "plt.ylabel(\"Execution time (min)\")\n",
    "\n",
    "\n",
    "plt.show()"
   ]
  }
 ],
 "metadata": {
  "kernelspec": {
   "display_name": "Python 3 (ipykernel)",
   "language": "python",
   "name": "python3"
  },
  "language_info": {
   "codemirror_mode": {
    "name": "ipython",
    "version": 3
   },
   "file_extension": ".py",
   "mimetype": "text/x-python",
   "name": "python",
   "nbconvert_exporter": "python",
   "pygments_lexer": "ipython3",
   "version": "3.8.10"
  }
 },
 "nbformat": 4,
 "nbformat_minor": 5
}
