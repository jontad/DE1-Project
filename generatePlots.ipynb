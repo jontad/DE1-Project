{
 "cells": [
  {
   "cell_type": "code",
   "execution_count": 46,
   "id": "ab7b47c8-e6fb-4630-aecf-ee134ca710e4",
   "metadata": {},
   "outputs": [],
   "source": [
    "import re\n",
    "from scipy.stats import sem\n",
    "\n",
    "def generateAverageAndStdTime(workerDataPath):\n",
    "    with open('generatedData/' + workerDataPath) as f:\n",
    "        lines = f.readlines()\n",
    "\n",
    "        split = [re.split(' |\\n', time)[0] for time in lines]\n",
    "        getMin = [time[2:7] for time in split]\n",
    "        replaceColon = [time.replace(':', '.') for time in getMin]\n",
    "        allTimes = [float(time) for time in replaceColon]\n",
    "        \n",
    "        average = sum(allTimes) / len(allTimes)\n",
    "        rounded = round(average, 5)\n",
    "        \n",
    "        std = sem(allTimes)\n",
    "        \n",
    "        return std, average\n",
    "\n",
    "        \n",
    "\n",
    "std, avg = generateAverageAndStdTime(\"duration_1_worker.txt\")"
   ]
  },
  {
   "cell_type": "code",
   "execution_count": 43,
   "id": "337d77b8-e77f-4522-9a55-1f52ccb3afc5",
   "metadata": {},
   "outputs": [],
   "source": [
    "import math\n",
    "\n",
    "def generateYAndStd(*paths):\n",
    "    yList = []\n",
    "    stdList = []\n",
    "    for path in paths:\n",
    "        std, avg = generateAverageAndStdTime(path)\n",
    "        \n",
    "        yList.append(avg)\n",
    "        stdList.append(std)\n",
    "    \n",
    "    stdList = [10**-8 if math.isnan(x) else x for x in stdList]\n",
    "    \n",
    "    return stdList, yList"
   ]
  },
  {
   "cell_type": "code",
   "execution_count": 54,
   "id": "b823c2f7-a189-486c-8ff5-480c6301cff3",
   "metadata": {},
   "outputs": [],
   "source": [
    "stdWeak, yWeak = generateYAndStd(\"duration_1_worker.txt\", \"duration_2_workers.txt\", \"duration_3_worker.txt\")\n",
    "\n",
    "# Workers\n",
    "x = [1, 2, 3]"
   ]
  },
  {
   "cell_type": "code",
   "execution_count": 56,
   "id": "82ba0817-ca5a-4d04-8216-e40f4c916574",
   "metadata": {},
   "outputs": [
    {
     "data": {
      "image/png": "[encoded data removed]",
      "text/plain": [
       "<Figure size 432x288 with 1 Axes>"
      ]
     },
     "metadata": {
      "needs_background": "light"
     },
     "output_type": "display_data"
    }
   ],
   "source": [
    "import matplotlib.pyplot as plt\n",
    "\n",
    "plt.errorbar(x, yWeak, stdWeak, linestyle='--', marker='s', capsize=3)\n",
    "\n",
    "my_xticks = ['2 (2 VCPUs)','4 (4 VCPUs)','6 (6 VCPUs)']\n",
    "plt.xticks(x, my_xticks)\n",
    "#plt.axis([0.8, 3.2, 10, 20])\n",
    "\n",
    "\n",
    "plt.xlabel(\"Number of Cores\")\n",
    "plt.ylabel(\"Execution time (min)\")\n",
    "plt.title(\"Weak Scaling (horizontal)\")\n",
    "\n",
    "\n",
    "plt.show()\n",
    "#plt.savefig('weak_scaling_truncated.png')"
   ]
  },
  {
   "cell_type": "code",
   "execution_count": 57,
   "id": "99bfbe11-f070-4043-81d5-2fb69c1bcd01",
   "metadata": {},
   "outputs": [
    {
     "name": "stderr",
     "output_type": "stream",
     "text": [
      "/home/ubuntu/.local/lib/python3.8/site-packages/numpy/core/_methods.py:264: RuntimeWarning: Degrees of freedom <= 0 for slice\n",
      "  ret = _var(a, axis=axis, dtype=dtype, out=out, ddof=ddof,\n",
      "/home/ubuntu/.local/lib/python3.8/site-packages/numpy/core/_methods.py:256: RuntimeWarning: invalid value encountered in double_scalars\n",
      "  ret = ret.dtype.type(ret / rcount)\n"
     ]
    }
   ],
   "source": [
    "# Strong\n",
    "stdStrong, yStrong = generateYAndStd(\"duration_strong_1_worker.txt\", \"duration_strong_2_worker_v2.txt\", \"duration_strong_3_worker_v2.txt\")"
   ]
  },
  {
   "cell_type": "code",
   "execution_count": 49,
   "id": "b7493967-1a82-41a1-b7d3-36d15090d59a",
   "metadata": {},
   "outputs": [
    {
     "name": "stdout",
     "output_type": "stream",
     "text": [
      "[1e-08, 0.010307764064044128, 0.005773502691896263]\n"
     ]
    }
   ],
   "source": [
    "print(std)"
   ]
  },
  {
   "cell_type": "code",
   "execution_count": 58,
   "id": "03455233-8997-40c3-8040-e309547b71c0",
   "metadata": {},
   "outputs": [
    {
     "data": {
      "image/png": "[encoded data removed]",
      "text/plain": [
       "<Figure size 432x288 with 1 Axes>"
      ]
     },
     "metadata": {
      "needs_background": "light"
     },
     "output_type": "display_data"
    }
   ],
   "source": [
    "plt.errorbar(x, yStrong, stdStrong, linestyle='--', marker='s', capsize=3, c='orange')\n",
    "\n",
    "#plt.axis([0.8, 3.2, 10, 20])\n",
    "\n",
    "my_xticks = ['4 (4 VCPUs)','8 (8 VCPUs)','16 (16 VCPUs)']\n",
    "plt.xticks(x, my_xticks)\n",
    "\n",
    "plt.xlabel(\"Number of Cores\")\n",
    "plt.ylabel(\"Execution time (min)\")\n",
    "plt.title(\"Strong Scaling (vertical)\")\n",
    "\n",
    "\n",
    "plt.show()\n",
    "#plt.savefig('weak_scaling_truncated.png')"
   ]
  }
 ],
 "metadata": {
  "kernelspec": {
   "display_name": "Python 3 (ipykernel)",
   "language": "python",
   "name": "python3"
  },
  "language_info": {
   "codemirror_mode": {
    "name": "ipython",
    "version": 3
   },
   "file_extension": ".py",
   "mimetype": "text/x-python",
   "name": "python",
   "nbconvert_exporter": "python",
   "pygments_lexer": "ipython3",
   "version": "3.8.10"
  }
 },
 "nbformat": 4,
 "nbformat_minor": 5
}
