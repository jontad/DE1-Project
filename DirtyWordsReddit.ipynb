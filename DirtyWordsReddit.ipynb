{
 "cells": [
  {
   "cell_type": "code",
   "execution_count": 12,
   "id": "ce3f8d4d-0d6d-4fc8-9a68-81ddbaf2c4cd",
   "metadata": {},
   "outputs": [],
   "source": [
    "from pyspark.sql import SparkSession\n",
    "\n",
    "# New API\n",
    "spark_session = SparkSession\\\n",
    "        .builder\\\n",
    "        .master(\"spark://130.238.28.143:7077\") \\\n",
    "        .appName(\"Andreas Kladd\")\\\n",
    "        .config(\"spark.dynamicAllocation.enabled\",False)\\\n",
    "        .config(\"spark.dynamicAllocation.executorIdleTimeout\",\"99999s\")\\\n",
    "        .config(\"spark.executor.cores\",2)\\\n",
    "        .config(\"spark.driver.port\",9998)\\\n",
    "        .config(\"spark.blockManager.port\",10005)\\\n",
    "        .getOrCreate()\n",
    "\n",
    "#        .config(\"spark.dynamicAllocation.shuffleTracking.enabled\",False)\\\n",
    "#        .config(\"spark.shuffle.service.enabled\",False)\\\n",
    "\n",
    "# Old API (RDD)\n",
    "spark_context = spark_session.sparkContext\n",
    "\n",
    "spark_context.setLogLevel(\"ERROR\")"
   ]
  },
  {
   "cell_type": "code",
   "execution_count": 2,
   "id": "f38d4ab1-0280-4a6c-acf9-68263a577b2e",
   "metadata": {},
   "outputs": [],
   "source": [
    "#TODO\n",
    "\n",
    "#importera timing library\n",
    "\n",
    "#profanity per subreddit %\n",
    "    #which subreddit curses the worst?\n",
    "    #most common curse over-all?\n",
    "    \n",
    "#skriv timings till fil\n",
    "    "
   ]
  },
  {
   "cell_type": "code",
   "execution_count": 15,
   "id": "c6f197c4-e70c-4113-bfef-63262d5e31c1",
   "metadata": {},
   "outputs": [
    {
     "name": "stdout",
     "output_type": "stream",
     "text": [
      "+---+--------+--------+\n",
      "| id|    word|language|\n",
      "+---+--------+--------+\n",
      "|  1|    anal|      en|\n",
      "|  2|    anus|      en|\n",
      "|  3|    arse|      en|\n",
      "|  4|     ass|      en|\n",
      "|  5|   balls|      en|\n",
      "|  6|ballsack|      en|\n",
      "|  7| bastard|      en|\n",
      "|  8|  biatch|      en|\n",
      "|  9|   bitch|      en|\n",
      "| 10|  bloody|      en|\n",
      "| 11|blow job|      en|\n",
      "| 12| blowjob|      en|\n",
      "| 13| bollock|      en|\n",
      "| 14|  bollok|      en|\n",
      "| 15|   boner|      en|\n",
      "| 16|    boob|      en|\n",
      "| 17|  bugger|      en|\n",
      "| 18|     bum|      en|\n",
      "| 19|    butt|      en|\n",
      "| 20|buttplug|      en|\n",
      "+---+--------+--------+\n",
      "only showing top 20 rows\n",
      "\n"
     ]
    }
   ],
   "source": [
    "df_dirty = spark_session.read\\\n",
    "    .option(\"header\", \"true\")\\\n",
    "    .csv('hdfs://192.168.2.13:9000/user/ubuntu/DirtyWordsFolder/DirtyWords.csv')\n",
    "\n",
    "df_dirty.show()"
   ]
  },
  {
   "cell_type": "code",
   "execution_count": 16,
   "id": "f1740cb0-b32e-4dab-ac2d-56194e2d4972",
   "metadata": {},
   "outputs": [
    {
     "name": "stderr",
     "output_type": "stream",
     "text": [
      "                                                                                \r"
     ]
    }
   ],
   "source": [
    "df_reddit = spark_session.read.json('hdfs://192.168.2.13:9000/user/one_worker')"
   ]
  },
  {
   "cell_type": "code",
   "execution_count": 17,
   "id": "21807433-65ec-486d-ac4c-6b16193d707e",
   "metadata": {},
   "outputs": [
    {
     "name": "stdout",
     "output_type": "stream",
     "text": [
      "+--------+--------------+----------------------+-----------------+--------------------+----------------+-----------+-------------+-----+------+------+-------+--------+----------+----------+--------------+------------+-----+------------+-----------+------------+---+\n",
      "|archived|        author|author_flair_css_class|author_flair_text|                body|controversiality|created_utc|distinguished|downs|edited|gilded|     id| link_id|      name| parent_id|removal_reason|retrieved_on|score|score_hidden|  subreddit|subreddit_id|ups|\n",
      "+--------+--------------+----------------------+-----------------+--------------------+----------------+-----------+-------------+-----+------+------+-------+--------+----------+----------+--------------+------------+-----+------------+-----------+------------+---+\n",
      "|    true|     [deleted]|                  null|             null|           [deleted]|               0| 1254355200|         null|    0| false|     0|c0dui88|t3_9pnfn|t1_c0dui88|t1_c0dui1g|          null|  1426060629|    2|       false|       IAmA|    t5_2qzb6|  2|\n",
      "|    true|        ffualo|                  null|             null|Thanks Oracle sal...|               0| 1254355201|         null|    0| false|     0|c0dui89|t3_9pkgy|t1_c0dui89|t1_c0ducpj|          null|  1426060629|    1|       false|programming|     t5_2fwo|  1|\n",
      "|    true|         Palpz|                  null|             null|**Starship Troope...|               0| 1254355201|         null|    0|  true|     0|c0dui8a|t3_9pgba|t1_c0dui8a|  t3_9pgba|          null|  1426060629|    4|       false| reddit.com|        t5_6|  4|\n",
      "|    true|     [deleted]|                  null|             null|The IDF is a terr...|               0| 1254355202|         null|    0| false|     0|c0dui8b|t3_9pohe|t1_c0dui8b|t1_c0duhut|          null|  1426060629|   -4|       false|   politics|    t5_2cneq| -4|\n",
      "|    true|      beautify|                  null|             null|So you're saying ...|               0| 1254355203|         null|    0| false|     0|c0dui8c|t3_9pl4s|t1_c0dui8c|t1_c0dugs7|          null|  1426060629|    1|       false|       IAmA|    t5_2qzb6|  1|\n",
      "|    true|tehfourthreich|                  null|             null|Lol. You just got...|               0| 1254355206|         null|    0| false|     0|c0dui8d|t3_9pnx7|t1_c0dui8d|t1_c0duhpu|          null|  1426060629|   50|       false|        WTF|    t5_2qh61| 50|\n",
      "|    true|      ginstrom|                  null|             null|Yeah, they watche...|               0| 1254355206|         null|    0| false|     0|c0dui8e|t3_9pnaz|t1_c0dui8e|t1_c0duhfo|          null|  1426060629|   17|       false|       pics|    t5_2qh0u| 17|\n",
      "|    true|     [deleted]|                  null|             null|Do they have milk...|               0| 1254355206|         null|    0| false|     0|c0dui8f|t3_9pnes|t1_c0dui8f|  t3_9pnes|          null|  1426060629|    2|       false|       IAmA|    t5_2qzb6|  2|\n",
      "|    true|      cmiller1|                  null|             null|Not as good as Ze...|               0| 1254355207|         null|    0| false|     0|c0dui8g|t3_9pni9|t1_c0dui8g|t1_c0dufvv|          null|  1426060629|    0|       false|     gaming|    t5_2qh03|  0|\n",
      "|    true| LowerHaighter|                  null|             null|There's plenty of...|               0| 1254355207|         null|    0| false|     0|c0dui8h|t3_9pnmb|t1_c0dui8h|t1_c0duhuy|          null|  1426060629|   -1|       false|  Marijuana|    t5_2qhhn| -1|\n",
      "+--------+--------------+----------------------+-----------------+--------------------+----------------+-----------+-------------+-----+------+------+-------+--------+----------+----------+--------------+------------+-----+------------+-----------+------------+---+\n",
      "only showing top 10 rows\n",
      "\n"
     ]
    }
   ],
   "source": [
    "df_reddit.show(10)"
   ]
  },
  {
   "cell_type": "code",
   "execution_count": null,
   "id": "d0b49290-bcd7-43ef-b5ed-95674fd9276b",
   "metadata": {},
   "outputs": [],
   "source": [
    "# release the cores for another application!\n",
    "spark_context.stop()"
   ]
  }
 ],
 "metadata": {
  "kernelspec": {
   "display_name": "Python 3 (ipykernel)",
   "language": "python",
   "name": "python3"
  },
  "language_info": {
   "codemirror_mode": {
    "name": "ipython",
    "version": 3
   },
   "file_extension": ".py",
   "mimetype": "text/x-python",
   "name": "python",
   "nbconvert_exporter": "python",
   "pygments_lexer": "ipython3",
   "version": "3.8.10"
  }
 },
 "nbformat": 4,
 "nbformat_minor": 5
}
