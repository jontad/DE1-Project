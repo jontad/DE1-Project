{
 "cells": [
  {
   "cell_type": "code",
   "execution_count": 1,
   "id": "ce3f8d4d-0d6d-4fc8-9a68-81ddbaf2c4cd",
   "metadata": {},
   "outputs": [
    {
     "name": "stderr",
     "output_type": "stream",
     "text": [
      "Using Spark's default log4j profile: org/apache/spark/log4j-defaults.properties\n",
      "Setting default log level to \"WARN\".\n",
      "To adjust logging level use sc.setLogLevel(newLevel). For SparkR, use setLogLevel(newLevel).\n",
      "22/03/21 14:42:24 WARN NativeCodeLoader: Unable to load native-hadoop library for your platform... using builtin-java classes where applicable\n"
     ]
    }
   ],
   "source": [
    "from pyspark.sql import SparkSession\n",
    "from pyspark.sql.functions import concat, col, lit, regexp_replace\n",
    "\n",
    "\n",
    "# New API\n",
    "spark_session = SparkSession\\\n",
    "        .builder\\\n",
    "        .master(\"spark://130.238.28.143:7077\") \\\n",
    "        .appName(\"Andreas Kladd\")\\\n",
    "        .config(\"spark.dynamicAllocation.enabled\",False)\\\n",
    "        .config(\"spark.dynamicAllocation.executorIdleTimeout\",\"99999s\")\\\n",
    "        .config(\"spark.executor.cores\",2)\\\n",
    "        .config(\"spark.driver.port\",9998)\\\n",
    "        .config(\"spark.blockManager.port\",10005)\\\n",
    "        .getOrCreate()\n",
    "\n",
    "#        .config(\"spark.dynamicAllocation.shuffleTracking.enabled\",False)\\\n",
    "#        .config(\"spark.shuffle.service.enabled\",False)\\\n",
    "\n",
    "# Old API (RDD)\n",
    "spark_context = spark_session.sparkContext\n",
    "\n",
    "spark_context.setLogLevel(\"ERROR\")"
   ]
  },
  {
   "cell_type": "code",
   "execution_count": 2,
   "id": "f38d4ab1-0280-4a6c-acf9-68263a577b2e",
   "metadata": {},
   "outputs": [],
   "source": [
    "#TODO\n",
    "\n",
    "#importera timing library\n",
    "\n",
    "#profanity per subreddit %\n",
    "    #which subreddit curses the worst?\n",
    "    #most common curse over-all?\n",
    "    \n",
    "#skriv timings till fil\n",
    "    "
   ]
  },
  {
   "cell_type": "code",
   "execution_count": 5,
   "id": "c6f197c4-e70c-4113-bfef-63262d5e31c1",
   "metadata": {},
   "outputs": [],
   "source": [
    "df_dirty = spark_session.read\\\n",
    "    .option(\"header\", \"true\")\\\n",
    "    .csv('hdfs://192.168.2.13:9000/user/ubuntu/DirtyWordsFolder/DirtyWords.csv')"
   ]
  },
  {
   "cell_type": "code",
   "execution_count": 6,
   "id": "bf51ab71-23da-470a-886a-2fbe3ce17ed9",
   "metadata": {},
   "outputs": [
    {
     "name": "stdout",
     "output_type": "stream",
     "text": [
      "['anus', 'arse', 'ass', 'balls']\n"
     ]
    }
   ],
   "source": [
    "list_dirty = df_dirty.select(\"word\").collect()\n",
    "list_dirty = [str(row[\"word\"]) for row in list_dirty]\n",
    "print(list_dirty[1:5])"
   ]
  },
  {
   "cell_type": "code",
   "execution_count": 3,
   "id": "f1740cb0-b32e-4dab-ac2d-56194e2d4972",
   "metadata": {},
   "outputs": [
    {
     "name": "stderr",
     "output_type": "stream",
     "text": [
      "                                                                                \r"
     ]
    }
   ],
   "source": [
    "df_reddit = spark_session.read.json('hdfs://192.168.2.13:9000/user/one_worker')\n",
    "df_reddit = df_reddit.select(\"body\",\"subreddit\")"
   ]
  },
  {
   "cell_type": "code",
   "execution_count": 4,
   "id": "1258d41b-2ed6-40f3-b300-8af727639330",
   "metadata": {},
   "outputs": [
    {
     "name": "stderr",
     "output_type": "stream",
     "text": [
      "                                                                                \r"
     ]
    },
    {
     "data": {
      "text/plain": [
       "[Row(SubredditAndBody='IAmA,[deleted]'),\n",
       " Row(SubredditAndBody='programming,Thanks Oracle salesman!\\n\\nOh, wait.')]"
      ]
     },
     "execution_count": 4,
     "metadata": {},
     "output_type": "execute_result"
    }
   ],
   "source": [
    "rdd_reddit = df_reddit.select(concat(col(\"subreddit\"),lit(\",\"), col(\"body\"))\\\n",
    "                                    .alias(\"SubredditAndBody\"))\\\n",
    "                                    .rdd\n",
    "rdd_reddit.take(2)"
   ]
  },
  {
   "cell_type": "code",
   "execution_count": null,
   "id": "7230862a-c51d-4956-a951-1ee71fd750b0",
   "metadata": {},
   "outputs": [
    {
     "data": {
      "text/plain": [
       "[Row(Edited='IAmA [deleted]'),\n",
       " Row(Edited='programming Thanks Oracle salesman   Oh  wait ')]"
      ]
     },
     "execution_count": 28,
     "metadata": {},
     "output_type": "execute_result"
    }
   ],
   "source": [
    "df_clean_text=rdd_reddit\\\n",
    "            .toDF()\\\n",
    "            .withColumn(\"Edited\",regexp_replace(\"SubredditAndBody\", \",|\\n|\\!|\\?|\\.|\\*|:|;\", \" \"))\\\n",
    "            .select(\"Edited\")\n",
    "\n",
    "rdd_split_text = df_clean_text.rdd.map(lambda row: row[\"Edited\"].lower().split(' '))\n",
    "                           \n",
    "\n",
    "#result = \" \".join(clean_text.split(' '))\n",
    "df_clean_text.take(2)"
   ]
  },
  {
   "cell_type": "code",
   "execution_count": 21,
   "id": "74f670eb-2208-4115-9b6b-8a527c493b0c",
   "metadata": {},
   "outputs": [
    {
     "data": {
      "text/plain": [
       "[['marijuana',\n",
       "  \"there's\",\n",
       "  'plenty',\n",
       "  'of',\n",
       "  'ass',\n",
       "  'between',\n",
       "  'the',\n",
       "  'hole',\n",
       "  'and',\n",
       "  'your',\n",
       "  'boxers',\n",
       "  '',\n",
       "  'not',\n",
       "  'being',\n",
       "  'mean',\n",
       "  '',\n",
       "  'but',\n",
       "  'just',\n",
       "  \"sayin'\",\n",
       "  '',\n",
       "  '',\n",
       "  '',\n",
       "  '',\n",
       "  '']]"
      ]
     },
     "execution_count": 21,
     "metadata": {},
     "output_type": "execute_result"
    }
   ],
   "source": [
    "def checkForDirtyWord(row, list_dirty):\n",
    "    for word in row[1:]:\n",
    "        if word in list_dirty:\n",
    "            return True\n",
    "    return False\n",
    "    \n",
    "df_dirty = rdd_split_text.filter(lambda row: checkForDirtyWord(row, list_dirty))\n",
    "df_dirty.take(1)\n",
    "\n",
    "subreddits = rdd.map(lambda row: row[0])"
   ]
  },
  {
   "cell_type": "code",
   "execution_count": 24,
   "id": "06f0e5e2-19f5-4729-ab4c-c1f747779a08",
   "metadata": {},
   "outputs": [
    {
     "name": "stderr",
     "output_type": "stream",
     "text": [
      "                                                                                \r"
     ]
    },
    {
     "data": {
      "text/plain": [
       "[(56222, 'askreddit'), (22920, 'reddit'), (22290, 'iama')]"
      ]
     },
     "execution_count": 24,
     "metadata": {},
     "output_type": "execute_result"
    }
   ],
   "source": [
    "def counter(rdd):\n",
    "    # take the first word = keyword\n",
    "    assign = subreddits.map(lambda word: (word,1))\n",
    "    add = assign.reduceByKey(lambda x, y: x+y)\n",
    "    sort = add.map(lambda x: (x[1], x[0])).sortByKey(False)\n",
    "    \n",
    "    return sort\n",
    "\n",
    "r = counter(df_dirty)\n",
    "r.take(3)"
   ]
  },
  {
   "cell_type": "code",
   "execution_count": 45,
   "id": "b7409fbc-95ed-43c6-b88a-9130cba3883b",
   "metadata": {},
   "outputs": [
    {
     "name": "stderr",
     "output_type": "stream",
     "text": [
      "                                                                                \r"
     ]
    },
    {
     "data": {
      "text/plain": [
       "[]"
      ]
     },
     "execution_count": 45,
     "metadata": {},
     "output_type": "execute_result"
    }
   ],
   "source": [
    "notreddit = df_reddit.rdd.filter(lambda row: row[\"subreddit\"] != \"reddit.com\" and '.' in row[\"subreddit\"])\n",
    "notreddit.take(5)"
   ]
  },
  {
   "cell_type": "code",
   "execution_count": 66,
   "id": "9b47f215-faef-4c73-b55d-84cea25ab5fa",
   "metadata": {},
   "outputs": [],
   "source": [
    "df_edited_reddit=df_reddit\\\n",
    "            .withColumn(\"subreddit\",regexp_replace(\"subreddit\", \"reddit.com\",\"reddit\"))\n",
    "\n",
    "df_edited_reddit.registerTempTable(\"df_edited_reddit\")\n",
    "subreddit_dirty_freq = spark_session.sql(\n",
    "    \"SELECT subreddit, COUNT(*) as frequencies FROM df_edited_reddit GROUP BY subreddit ORDER BY Frequencies DESC\"\n",
    ")"
   ]
  },
  {
   "cell_type": "code",
   "execution_count": 65,
   "id": "00407a85-656b-4ac7-87a7-a2ee366a35a9",
   "metadata": {},
   "outputs": [],
   "source": [
    "subreddit_freq = r.toDF([\"frequencies\", \"subreddit\"])"
   ]
  },
  {
   "cell_type": "code",
   "execution_count": 74,
   "id": "5ba98e6d-5355-4040-93c2-d67c8fcf045d",
   "metadata": {},
   "outputs": [
    {
     "ename": "AnalysisException",
     "evalue": "cannot resolve 'frequencies_sdf' given input columns: [__auto_generated_subquery_name.frequencies, __auto_generated_subquery_name.frequncies_sdf, __auto_generated_subquery_name.subreddit]; line 1 pos 14;\n'Project [unresolvedalias('ISNULL('frequencies_sdf, 0), None)]\n+- SubqueryAlias __auto_generated_subquery_name\n   +- Project [subreddit#332, frequencies#331L, frequencies#338L AS frequncies_sdf#403L]\n      +- Join LeftOuter, (subreddit#332 = subreddit#335)\n         :- SubqueryAlias sf\n         :  +- SubqueryAlias subreddit_freq\n         :     +- View (`subreddit_freq`, [frequencies#331L,subreddit#332])\n         :        +- LogicalRDD [frequencies#331L, subreddit#332], false\n         +- SubqueryAlias sdf\n            +- SubqueryAlias subreddit_dirty_freq\n               +- View (`subreddit_dirty_freq`, [subreddit#335,frequencies#338L])\n                  +- Sort [Frequencies#338L DESC NULLS LAST], true\n                     +- Aggregate [subreddit#335], [subreddit#335, count(1) AS frequencies#338L]\n                        +- SubqueryAlias df_edited_reddit\n                           +- View (`df_edited_reddit`, [body#49,subreddit#335])\n                              +- Project [body#49, regexp_replace(subreddit#64, reddit.com, reddit, 1) AS subreddit#335]\n                                 +- Project [body#49, subreddit#64]\n                                    +- Relation [archived#45,author#46,author_flair_css_class#47,author_flair_text#48,body#49,controversiality#50L,created_utc#51,distinguished#52,downs#53L,edited#54,gilded#55L,id#56,link_id#57,name#58,parent_id#59,removal_reason#60,retrieved_on#61L,score#62L,score_hidden#63,subreddit#64,subreddit_id#65,ups#66L] json\n",
     "output_type": "error",
     "traceback": [
      "\u001b[0;31m---------------------------------------------------------------------------\u001b[0m",
      "\u001b[0;31mAnalysisException\u001b[0m                         Traceback (most recent call last)",
      "Input \u001b[0;32mIn [74]\u001b[0m, in \u001b[0;36m<cell line: 4>\u001b[0;34m()\u001b[0m\n\u001b[1;32m      1\u001b[0m subreddit_freq\u001b[38;5;241m.\u001b[39mregisterTempTable(\u001b[38;5;124m\"\u001b[39m\u001b[38;5;124msubreddit_freq\u001b[39m\u001b[38;5;124m\"\u001b[39m)\n\u001b[1;32m      2\u001b[0m subreddit_dirty_freq\u001b[38;5;241m.\u001b[39mregisterTempTable(\u001b[38;5;124m\"\u001b[39m\u001b[38;5;124msubreddit_dirty_freq\u001b[39m\u001b[38;5;124m\"\u001b[39m)\n\u001b[0;32m----> 4\u001b[0m joined \u001b[38;5;241m=\u001b[39m \u001b[43mspark_session\u001b[49m\u001b[38;5;241;43m.\u001b[39;49m\u001b[43msql\u001b[49m\u001b[43m(\u001b[49m\n\u001b[1;32m      5\u001b[0m \u001b[43m    \u001b[49m\u001b[38;5;124;43m\"\u001b[39;49m\u001b[38;5;124;43mSELECT ISNULL(frequencies_sdf, 0) FROM (SELECT sf.subreddit, sf.frequencies, sdf.frequencies AS frequncies_sdf FROM subreddit_freq AS sf LEFT JOIN subreddit_dirty_freq AS sdf ON sf.subreddit = sdf.subreddit)\u001b[39;49m\u001b[38;5;124;43m\"\u001b[39;49m\u001b[43m \u001b[49m\n\u001b[1;32m      6\u001b[0m \u001b[43m)\u001b[49m\u001b[38;5;241m.\u001b[39mshow()\n",
      "File \u001b[0;32m~/.local/lib/python3.8/site-packages/pyspark/sql/session.py:723\u001b[0m, in \u001b[0;36mSparkSession.sql\u001b[0;34m(self, sqlQuery)\u001b[0m\n\u001b[1;32m    707\u001b[0m \u001b[38;5;28;01mdef\u001b[39;00m \u001b[38;5;21msql\u001b[39m(\u001b[38;5;28mself\u001b[39m, sqlQuery):\n\u001b[1;32m    708\u001b[0m     \u001b[38;5;124;03m\"\"\"Returns a :class:`DataFrame` representing the result of the given query.\u001b[39;00m\n\u001b[1;32m    709\u001b[0m \n\u001b[1;32m    710\u001b[0m \u001b[38;5;124;03m    .. versionadded:: 2.0.0\u001b[39;00m\n\u001b[0;32m   (...)\u001b[0m\n\u001b[1;32m    721\u001b[0m \u001b[38;5;124;03m    [Row(f1=1, f2='row1'), Row(f1=2, f2='row2'), Row(f1=3, f2='row3')]\u001b[39;00m\n\u001b[1;32m    722\u001b[0m \u001b[38;5;124;03m    \"\"\"\u001b[39;00m\n\u001b[0;32m--> 723\u001b[0m     \u001b[38;5;28;01mreturn\u001b[39;00m DataFrame(\u001b[38;5;28;43mself\u001b[39;49m\u001b[38;5;241;43m.\u001b[39;49m\u001b[43m_jsparkSession\u001b[49m\u001b[38;5;241;43m.\u001b[39;49m\u001b[43msql\u001b[49m\u001b[43m(\u001b[49m\u001b[43msqlQuery\u001b[49m\u001b[43m)\u001b[49m, \u001b[38;5;28mself\u001b[39m\u001b[38;5;241m.\u001b[39m_wrapped)\n",
      "File \u001b[0;32m~/.local/lib/python3.8/site-packages/py4j/java_gateway.py:1321\u001b[0m, in \u001b[0;36mJavaMember.__call__\u001b[0;34m(self, *args)\u001b[0m\n\u001b[1;32m   1315\u001b[0m command \u001b[38;5;241m=\u001b[39m proto\u001b[38;5;241m.\u001b[39mCALL_COMMAND_NAME \u001b[38;5;241m+\u001b[39m\\\n\u001b[1;32m   1316\u001b[0m     \u001b[38;5;28mself\u001b[39m\u001b[38;5;241m.\u001b[39mcommand_header \u001b[38;5;241m+\u001b[39m\\\n\u001b[1;32m   1317\u001b[0m     args_command \u001b[38;5;241m+\u001b[39m\\\n\u001b[1;32m   1318\u001b[0m     proto\u001b[38;5;241m.\u001b[39mEND_COMMAND_PART\n\u001b[1;32m   1320\u001b[0m answer \u001b[38;5;241m=\u001b[39m \u001b[38;5;28mself\u001b[39m\u001b[38;5;241m.\u001b[39mgateway_client\u001b[38;5;241m.\u001b[39msend_command(command)\n\u001b[0;32m-> 1321\u001b[0m return_value \u001b[38;5;241m=\u001b[39m \u001b[43mget_return_value\u001b[49m\u001b[43m(\u001b[49m\n\u001b[1;32m   1322\u001b[0m \u001b[43m    \u001b[49m\u001b[43manswer\u001b[49m\u001b[43m,\u001b[49m\u001b[43m \u001b[49m\u001b[38;5;28;43mself\u001b[39;49m\u001b[38;5;241;43m.\u001b[39;49m\u001b[43mgateway_client\u001b[49m\u001b[43m,\u001b[49m\u001b[43m \u001b[49m\u001b[38;5;28;43mself\u001b[39;49m\u001b[38;5;241;43m.\u001b[39;49m\u001b[43mtarget_id\u001b[49m\u001b[43m,\u001b[49m\u001b[43m \u001b[49m\u001b[38;5;28;43mself\u001b[39;49m\u001b[38;5;241;43m.\u001b[39;49m\u001b[43mname\u001b[49m\u001b[43m)\u001b[49m\n\u001b[1;32m   1324\u001b[0m \u001b[38;5;28;01mfor\u001b[39;00m temp_arg \u001b[38;5;129;01min\u001b[39;00m temp_args:\n\u001b[1;32m   1325\u001b[0m     temp_arg\u001b[38;5;241m.\u001b[39m_detach()\n",
      "File \u001b[0;32m~/.local/lib/python3.8/site-packages/pyspark/sql/utils.py:117\u001b[0m, in \u001b[0;36mcapture_sql_exception.<locals>.deco\u001b[0;34m(*a, **kw)\u001b[0m\n\u001b[1;32m    113\u001b[0m converted \u001b[38;5;241m=\u001b[39m convert_exception(e\u001b[38;5;241m.\u001b[39mjava_exception)\n\u001b[1;32m    114\u001b[0m \u001b[38;5;28;01mif\u001b[39;00m \u001b[38;5;129;01mnot\u001b[39;00m \u001b[38;5;28misinstance\u001b[39m(converted, UnknownException):\n\u001b[1;32m    115\u001b[0m     \u001b[38;5;66;03m# Hide where the exception came from that shows a non-Pythonic\u001b[39;00m\n\u001b[1;32m    116\u001b[0m     \u001b[38;5;66;03m# JVM exception message.\u001b[39;00m\n\u001b[0;32m--> 117\u001b[0m     \u001b[38;5;28;01mraise\u001b[39;00m converted \u001b[38;5;28;01mfrom\u001b[39;00m \u001b[38;5;28mNone\u001b[39m\n\u001b[1;32m    118\u001b[0m \u001b[38;5;28;01melse\u001b[39;00m:\n\u001b[1;32m    119\u001b[0m     \u001b[38;5;28;01mraise\u001b[39;00m\n",
      "\u001b[0;31mAnalysisException\u001b[0m: cannot resolve 'frequencies_sdf' given input columns: [__auto_generated_subquery_name.frequencies, __auto_generated_subquery_name.frequncies_sdf, __auto_generated_subquery_name.subreddit]; line 1 pos 14;\n'Project [unresolvedalias('ISNULL('frequencies_sdf, 0), None)]\n+- SubqueryAlias __auto_generated_subquery_name\n   +- Project [subreddit#332, frequencies#331L, frequencies#338L AS frequncies_sdf#403L]\n      +- Join LeftOuter, (subreddit#332 = subreddit#335)\n         :- SubqueryAlias sf\n         :  +- SubqueryAlias subreddit_freq\n         :     +- View (`subreddit_freq`, [frequencies#331L,subreddit#332])\n         :        +- LogicalRDD [frequencies#331L, subreddit#332], false\n         +- SubqueryAlias sdf\n            +- SubqueryAlias subreddit_dirty_freq\n               +- View (`subreddit_dirty_freq`, [subreddit#335,frequencies#338L])\n                  +- Sort [Frequencies#338L DESC NULLS LAST], true\n                     +- Aggregate [subreddit#335], [subreddit#335, count(1) AS frequencies#338L]\n                        +- SubqueryAlias df_edited_reddit\n                           +- View (`df_edited_reddit`, [body#49,subreddit#335])\n                              +- Project [body#49, regexp_replace(subreddit#64, reddit.com, reddit, 1) AS subreddit#335]\n                                 +- Project [body#49, subreddit#64]\n                                    +- Relation [archived#45,author#46,author_flair_css_class#47,author_flair_text#48,body#49,controversiality#50L,created_utc#51,distinguished#52,downs#53L,edited#54,gilded#55L,id#56,link_id#57,name#58,parent_id#59,removal_reason#60,retrieved_on#61L,score#62L,score_hidden#63,subreddit#64,subreddit_id#65,ups#66L] json\n"
     ]
    }
   ],
   "source": [
    "subreddit_freq.registerTempTable(\"subreddit_freq\")\n",
    "subreddit_dirty_freq.registerTempTable(\"subreddit_dirty_freq\")\n",
    "\n",
    "joined = spark_session.sql(\n",
    "    \"SELECT ISNULL(frequencies_sdf, 0) FROM (SELECT sf.subreddit, sf.frequencies, sdf.frequencies AS frequncies_sdf FROM subreddit_freq AS sf LEFT JOIN subreddit_dirty_freq AS sdf ON sf.subreddit = sdf.subreddit)\" \n",
    ").show()\n",
    "\n",
    "\n"
   ]
  },
  {
   "cell_type": "code",
   "execution_count": 70,
   "id": "2c422b09-d92e-4b84-867b-76f51bafdf46",
   "metadata": {},
   "outputs": [
    {
     "name": "stdout",
     "output_type": "stream",
     "text": [
      "<class 'pyspark.sql.dataframe.DataFrame'>\n"
     ]
    }
   ],
   "source": [
    "print(type(joined))"
   ]
  },
  {
   "cell_type": "code",
   "execution_count": 56,
   "id": "d0b49290-bcd7-43ef-b5ed-95674fd9276b",
   "metadata": {},
   "outputs": [],
   "source": [
    "# release the cores for another application!\n",
    "spark_context.stop()"
   ]
  }
 ],
 "metadata": {
  "kernelspec": {
   "display_name": "Python 3 (ipykernel)",
   "language": "python",
   "name": "python3"
  },
  "language_info": {
   "codemirror_mode": {
    "name": "ipython",
    "version": 3
   },
   "file_extension": ".py",
   "mimetype": "text/x-python",
   "name": "python",
   "nbconvert_exporter": "python",
   "pygments_lexer": "ipython3",
   "version": "3.8.10"
  }
 },
 "nbformat": 4,
 "nbformat_minor": 5
}
